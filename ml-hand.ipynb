{
 "cells": [
  {
   "cell_type": "code",
   "execution_count": 1,
   "id": "36a9cdad",
   "metadata": {
    "execution": {
     "iopub.execute_input": "2023-06-16T10:15:47.401052Z",
     "iopub.status.busy": "2023-06-16T10:15:47.400549Z",
     "iopub.status.idle": "2023-06-16T10:15:47.414846Z",
     "shell.execute_reply": "2023-06-16T10:15:47.413703Z"
    },
    "id": "7npXItJekm2g",
    "papermill": {
     "duration": 0.02764,
     "end_time": "2023-06-16T10:15:47.417458",
     "exception": false,
     "start_time": "2023-06-16T10:15:47.389818",
     "status": "completed"
    },
    "tags": []
   },
   "outputs": [],
   "source": [
    "import pandas as pd"
   ]
  },
  {
   "cell_type": "code",
   "execution_count": 2,
   "id": "f809535d",
   "metadata": {
    "execution": {
     "iopub.execute_input": "2023-06-16T10:15:47.436176Z",
     "iopub.status.busy": "2023-06-16T10:15:47.435765Z",
     "iopub.status.idle": "2023-06-16T10:15:47.440905Z",
     "shell.execute_reply": "2023-06-16T10:15:47.439746Z"
    },
    "id": "uJFV3RZllETu",
    "papermill": {
     "duration": 0.017256,
     "end_time": "2023-06-16T10:15:47.443352",
     "exception": false,
     "start_time": "2023-06-16T10:15:47.426096",
     "status": "completed"
    },
    "tags": []
   },
   "outputs": [],
   "source": [
    "import numpy as np"
   ]
  },
  {
   "cell_type": "code",
   "execution_count": 3,
   "id": "01e9d932",
   "metadata": {
    "execution": {
     "iopub.execute_input": "2023-06-16T10:15:47.461207Z",
     "iopub.status.busy": "2023-06-16T10:15:47.460810Z",
     "iopub.status.idle": "2023-06-16T10:15:47.465989Z",
     "shell.execute_reply": "2023-06-16T10:15:47.464829Z"
    },
    "id": "O5dhwkgalOt9",
    "papermill": {
     "duration": 0.016915,
     "end_time": "2023-06-16T10:15:47.468386",
     "exception": false,
     "start_time": "2023-06-16T10:15:47.451471",
     "status": "completed"
    },
    "tags": []
   },
   "outputs": [],
   "source": [
    "import matplotlib.pyplot as plt\n"
   ]
  },
  {
   "cell_type": "code",
   "execution_count": 4,
   "id": "5e8db30f",
   "metadata": {
    "execution": {
     "iopub.execute_input": "2023-06-16T10:15:47.487162Z",
     "iopub.status.busy": "2023-06-16T10:15:47.486339Z",
     "iopub.status.idle": "2023-06-16T10:15:48.921131Z",
     "shell.execute_reply": "2023-06-16T10:15:48.919837Z"
    },
    "id": "RDWT9ih4lVgv",
    "papermill": {
     "duration": 1.447505,
     "end_time": "2023-06-16T10:15:48.924441",
     "exception": false,
     "start_time": "2023-06-16T10:15:47.476936",
     "status": "completed"
    },
    "tags": []
   },
   "outputs": [],
   "source": [
    "from sklearn.datasets import load_digits"
   ]
  },
  {
   "cell_type": "code",
   "execution_count": 5,
   "id": "573778cf",
   "metadata": {
    "execution": {
     "iopub.execute_input": "2023-06-16T10:15:48.944335Z",
     "iopub.status.busy": "2023-06-16T10:15:48.943925Z",
     "iopub.status.idle": "2023-06-16T10:15:48.973957Z",
     "shell.execute_reply": "2023-06-16T10:15:48.972685Z"
    },
    "id": "gsSaL8lRlqDf",
    "papermill": {
     "duration": 0.043997,
     "end_time": "2023-06-16T10:15:48.976766",
     "exception": false,
     "start_time": "2023-06-16T10:15:48.932769",
     "status": "completed"
    },
    "tags": []
   },
   "outputs": [],
   "source": [
    "df = load_digits()"
   ]
  },
  {
   "cell_type": "code",
   "execution_count": 6,
   "id": "69a6dd96",
   "metadata": {
    "execution": {
     "iopub.execute_input": "2023-06-16T10:15:48.995871Z",
     "iopub.status.busy": "2023-06-16T10:15:48.995476Z",
     "iopub.status.idle": "2023-06-16T10:15:49.445786Z",
     "shell.execute_reply": "2023-06-16T10:15:49.444702Z"
    },
    "id": "J0N2IEurnS9i",
    "outputId": "15aa787e-0679-4102-e3f8-79f9fe152c38",
    "papermill": {
     "duration": 0.463076,
     "end_time": "2023-06-16T10:15:49.448526",
     "exception": false,
     "start_time": "2023-06-16T10:15:48.985450",
     "status": "completed"
    },
    "tags": []
   },
   "outputs": [
    {
     "data": {
      "image/png": "[encoded data removed]",
      "text/plain": [
       "<Figure size 1000x300 with 4 Axes>"
      ]
     },
     "metadata": {},
     "output_type": "display_data"
    }
   ],
   "source": [
    "_,axes = plt.subplots(nrows=1, ncols=4, figsize=(10, 3))\n",
    "\n",
    "for ax, image, label in zip(axes, df.images, df.target): \n",
    "  ax.set_axis_off() \n",
    "  ax.imshow(image, cmap=plt.cm.gray_r, interpolation=\"nearest\") \n",
    "  ax.set_title(\"Training: %i\" %label)"
   ]
  },
  {
   "cell_type": "code",
   "execution_count": 7,
   "id": "b20508ba",
   "metadata": {
    "execution": {
     "iopub.execute_input": "2023-06-16T10:15:49.467550Z",
     "iopub.status.busy": "2023-06-16T10:15:49.467136Z",
     "iopub.status.idle": "2023-06-16T10:15:49.474768Z",
     "shell.execute_reply": "2023-06-16T10:15:49.473396Z"
    },
    "id": "k2-DPW8SnN-J",
    "outputId": "143ae7bf-cb85-41d9-aefe-a9873a3f7f2e",
    "papermill": {
     "duration": 0.020268,
     "end_time": "2023-06-16T10:15:49.477431",
     "exception": false,
     "start_time": "2023-06-16T10:15:49.457163",
     "status": "completed"
    },
    "tags": []
   },
   "outputs": [
    {
     "data": {
      "text/plain": [
       "(1797, 8, 8)"
      ]
     },
     "execution_count": 7,
     "metadata": {},
     "output_type": "execute_result"
    }
   ],
   "source": [
    "df.images.shape"
   ]
  },
  {
   "cell_type": "code",
   "execution_count": 8,
   "id": "a9475d59",
   "metadata": {
    "execution": {
     "iopub.execute_input": "2023-06-16T10:15:49.497666Z",
     "iopub.status.busy": "2023-06-16T10:15:49.497265Z",
     "iopub.status.idle": "2023-06-16T10:15:49.505702Z",
     "shell.execute_reply": "2023-06-16T10:15:49.504456Z"
    },
    "id": "daAP5-q_mQJf",
    "outputId": "eb626a38-edd5-4cb0-9f50-d6a7dabba07c",
    "papermill": {
     "duration": 0.021887,
     "end_time": "2023-06-16T10:15:49.508292",
     "exception": false,
     "start_time": "2023-06-16T10:15:49.486405",
     "status": "completed"
    },
    "tags": []
   },
   "outputs": [
    {
     "data": {
      "text/plain": [
       "array([[ 0.,  0.,  5., 13.,  9.,  1.,  0.,  0.],\n",
       "       [ 0.,  0., 13., 15., 10., 15.,  5.,  0.],\n",
       "       [ 0.,  3., 15.,  2.,  0., 11.,  8.,  0.],\n",
       "       [ 0.,  4., 12.,  0.,  0.,  8.,  8.,  0.],\n",
       "       [ 0.,  5.,  8.,  0.,  0.,  9.,  8.,  0.],\n",
       "       [ 0.,  4., 11.,  0.,  1., 12.,  7.,  0.],\n",
       "       [ 0.,  2., 14.,  5., 10., 12.,  0.,  0.],\n",
       "       [ 0.,  0.,  6., 13., 10.,  0.,  0.,  0.]])"
      ]
     },
     "execution_count": 8,
     "metadata": {},
     "output_type": "execute_result"
    }
   ],
   "source": [
    "df.images[0]"
   ]
  },
  {
   "cell_type": "code",
   "execution_count": 9,
   "id": "973a9e0f",
   "metadata": {
    "execution": {
     "iopub.execute_input": "2023-06-16T10:15:49.528913Z",
     "iopub.status.busy": "2023-06-16T10:15:49.528544Z",
     "iopub.status.idle": "2023-06-16T10:15:49.535374Z",
     "shell.execute_reply": "2023-06-16T10:15:49.534268Z"
    },
    "id": "bTyxL6CCnxi_",
    "outputId": "6d9f37db-b734-4662-f3be-feebf95c5cc0",
    "papermill": {
     "duration": 0.020228,
     "end_time": "2023-06-16T10:15:49.537704",
     "exception": false,
     "start_time": "2023-06-16T10:15:49.517476",
     "status": "completed"
    },
    "tags": []
   },
   "outputs": [
    {
     "data": {
      "text/plain": [
       "(8, 8)"
      ]
     },
     "execution_count": 9,
     "metadata": {},
     "output_type": "execute_result"
    }
   ],
   "source": [
    "df.images[0].shape"
   ]
  },
  {
   "cell_type": "code",
   "execution_count": 10,
   "id": "9a692f1a",
   "metadata": {
    "execution": {
     "iopub.execute_input": "2023-06-16T10:15:49.559931Z",
     "iopub.status.busy": "2023-06-16T10:15:49.558938Z",
     "iopub.status.idle": "2023-06-16T10:15:49.566057Z",
     "shell.execute_reply": "2023-06-16T10:15:49.564928Z"
    },
    "id": "HinCqcYhn1eS",
    "outputId": "2cbaf87a-d365-412c-80a1-a8f26cad40c8",
    "papermill": {
     "duration": 0.021308,
     "end_time": "2023-06-16T10:15:49.568461",
     "exception": false,
     "start_time": "2023-06-16T10:15:49.547153",
     "status": "completed"
    },
    "tags": []
   },
   "outputs": [
    {
     "data": {
      "text/plain": [
       "1797"
      ]
     },
     "execution_count": 10,
     "metadata": {},
     "output_type": "execute_result"
    }
   ],
   "source": [
    "len(df.images)"
   ]
  },
  {
   "cell_type": "code",
   "execution_count": 11,
   "id": "e0f775a5",
   "metadata": {
    "execution": {
     "iopub.execute_input": "2023-06-16T10:15:49.590120Z",
     "iopub.status.busy": "2023-06-16T10:15:49.588933Z",
     "iopub.status.idle": "2023-06-16T10:15:49.594959Z",
     "shell.execute_reply": "2023-06-16T10:15:49.593749Z"
    },
    "id": "6zfz1hB3oLJ0",
    "papermill": {
     "duration": 0.020033,
     "end_time": "2023-06-16T10:15:49.597859",
     "exception": false,
     "start_time": "2023-06-16T10:15:49.577826",
     "status": "completed"
    },
    "tags": []
   },
   "outputs": [],
   "source": [
    "n_samples = len(df.images)\n",
    "\n",
    "data=df.images.reshape((n_samples, -1))"
   ]
  },
  {
   "cell_type": "code",
   "execution_count": 12,
   "id": "4c99585d",
   "metadata": {
    "execution": {
     "iopub.execute_input": "2023-06-16T10:15:49.619481Z",
     "iopub.status.busy": "2023-06-16T10:15:49.619081Z",
     "iopub.status.idle": "2023-06-16T10:15:49.625461Z",
     "shell.execute_reply": "2023-06-16T10:15:49.624707Z"
    },
    "id": "qDlyfxYfoZRY",
    "outputId": "929f3c21-ce83-4f20-82b3-b501fd92acc9",
    "papermill": {
     "duration": 0.019553,
     "end_time": "2023-06-16T10:15:49.627558",
     "exception": false,
     "start_time": "2023-06-16T10:15:49.608005",
     "status": "completed"
    },
    "tags": []
   },
   "outputs": [
    {
     "data": {
      "text/plain": [
       "array([ 0.,  0.,  5., 13.,  9.,  1.,  0.,  0.,  0.,  0., 13., 15., 10.,\n",
       "       15.,  5.,  0.,  0.,  3., 15.,  2.,  0., 11.,  8.,  0.,  0.,  4.,\n",
       "       12.,  0.,  0.,  8.,  8.,  0.,  0.,  5.,  8.,  0.,  0.,  9.,  8.,\n",
       "        0.,  0.,  4., 11.,  0.,  1., 12.,  7.,  0.,  0.,  2., 14.,  5.,\n",
       "       10., 12.,  0.,  0.,  0.,  0.,  6., 13., 10.,  0.,  0.,  0.])"
      ]
     },
     "execution_count": 12,
     "metadata": {},
     "output_type": "execute_result"
    }
   ],
   "source": [
    "data[0]"
   ]
  },
  {
   "cell_type": "code",
   "execution_count": 13,
   "id": "39e5b276",
   "metadata": {
    "execution": {
     "iopub.execute_input": "2023-06-16T10:15:49.649471Z",
     "iopub.status.busy": "2023-06-16T10:15:49.648826Z",
     "iopub.status.idle": "2023-06-16T10:15:49.655123Z",
     "shell.execute_reply": "2023-06-16T10:15:49.654083Z"
    },
    "id": "iFWdEARPoc3h",
    "outputId": "1b30a573-a518-4a83-cb36-cf7d4a37c0b3",
    "papermill": {
     "duration": 0.020662,
     "end_time": "2023-06-16T10:15:49.658147",
     "exception": false,
     "start_time": "2023-06-16T10:15:49.637485",
     "status": "completed"
    },
    "tags": []
   },
   "outputs": [
    {
     "data": {
      "text/plain": [
       "(64,)"
      ]
     },
     "execution_count": 13,
     "metadata": {},
     "output_type": "execute_result"
    }
   ],
   "source": [
    "data[0].shape"
   ]
  },
  {
   "cell_type": "code",
   "execution_count": 14,
   "id": "33022a01",
   "metadata": {
    "execution": {
     "iopub.execute_input": "2023-06-16T10:15:49.682290Z",
     "iopub.status.busy": "2023-06-16T10:15:49.681487Z",
     "iopub.status.idle": "2023-06-16T10:15:49.687494Z",
     "shell.execute_reply": "2023-06-16T10:15:49.686549Z"
    },
    "id": "9UDt6YYXolaM",
    "outputId": "efb2c0b2-83b0-40a6-f042-d304b813b130",
    "papermill": {
     "duration": 0.020235,
     "end_time": "2023-06-16T10:15:49.689679",
     "exception": false,
     "start_time": "2023-06-16T10:15:49.669444",
     "status": "completed"
    },
    "tags": []
   },
   "outputs": [
    {
     "data": {
      "text/plain": [
       "(1797, 64)"
      ]
     },
     "execution_count": 14,
     "metadata": {},
     "output_type": "execute_result"
    }
   ],
   "source": [
    "data.shape"
   ]
  },
  {
   "cell_type": "code",
   "execution_count": 15,
   "id": "447dd7fc",
   "metadata": {
    "execution": {
     "iopub.execute_input": "2023-06-16T10:15:49.712279Z",
     "iopub.status.busy": "2023-06-16T10:15:49.711546Z",
     "iopub.status.idle": "2023-06-16T10:15:49.718100Z",
     "shell.execute_reply": "2023-06-16T10:15:49.717292Z"
    },
    "id": "TOJB2ugxoqSt",
    "outputId": "e49eaa99-490e-4a9e-ae01-7e8f433d54d6",
    "papermill": {
     "duration": 0.020273,
     "end_time": "2023-06-16T10:15:49.720316",
     "exception": false,
     "start_time": "2023-06-16T10:15:49.700043",
     "status": "completed"
    },
    "tags": []
   },
   "outputs": [
    {
     "data": {
      "text/plain": [
       "0.0"
      ]
     },
     "execution_count": 15,
     "metadata": {},
     "output_type": "execute_result"
    }
   ],
   "source": [
    "data.min()"
   ]
  },
  {
   "cell_type": "code",
   "execution_count": 16,
   "id": "1aac0394",
   "metadata": {
    "execution": {
     "iopub.execute_input": "2023-06-16T10:15:49.742802Z",
     "iopub.status.busy": "2023-06-16T10:15:49.742401Z",
     "iopub.status.idle": "2023-06-16T10:15:49.749206Z",
     "shell.execute_reply": "2023-06-16T10:15:49.748272Z"
    },
    "id": "uWsfnavsothd",
    "outputId": "74c113ed-350a-4b95-fbdf-193666e30e5f",
    "papermill": {
     "duration": 0.020603,
     "end_time": "2023-06-16T10:15:49.751380",
     "exception": false,
     "start_time": "2023-06-16T10:15:49.730777",
     "status": "completed"
    },
    "tags": []
   },
   "outputs": [
    {
     "data": {
      "text/plain": [
       "16.0"
      ]
     },
     "execution_count": 16,
     "metadata": {},
     "output_type": "execute_result"
    }
   ],
   "source": [
    "data.max()"
   ]
  },
  {
   "cell_type": "code",
   "execution_count": 17,
   "id": "059d2df4",
   "metadata": {
    "execution": {
     "iopub.execute_input": "2023-06-16T10:15:49.775295Z",
     "iopub.status.busy": "2023-06-16T10:15:49.774650Z",
     "iopub.status.idle": "2023-06-16T10:15:49.779800Z",
     "shell.execute_reply": "2023-06-16T10:15:49.779012Z"
    },
    "id": "aKUzi7MIowmJ",
    "papermill": {
     "duration": 0.020089,
     "end_time": "2023-06-16T10:15:49.782027",
     "exception": false,
     "start_time": "2023-06-16T10:15:49.761938",
     "status": "completed"
    },
    "tags": []
   },
   "outputs": [],
   "source": [
    "data=data/16"
   ]
  },
  {
   "cell_type": "code",
   "execution_count": 18,
   "id": "ca214c67",
   "metadata": {
    "execution": {
     "iopub.execute_input": "2023-06-16T10:15:49.805396Z",
     "iopub.status.busy": "2023-06-16T10:15:49.804748Z",
     "iopub.status.idle": "2023-06-16T10:15:49.811955Z",
     "shell.execute_reply": "2023-06-16T10:15:49.810698Z"
    },
    "id": "NiDSO6cWo3mX",
    "outputId": "e61a2467-d672-49f5-b269-22e37176b705",
    "papermill": {
     "duration": 0.021641,
     "end_time": "2023-06-16T10:15:49.814286",
     "exception": false,
     "start_time": "2023-06-16T10:15:49.792645",
     "status": "completed"
    },
    "tags": []
   },
   "outputs": [
    {
     "data": {
      "text/plain": [
       "0.0"
      ]
     },
     "execution_count": 18,
     "metadata": {},
     "output_type": "execute_result"
    }
   ],
   "source": [
    "data.min()"
   ]
  },
  {
   "cell_type": "code",
   "execution_count": 19,
   "id": "7b453a0b",
   "metadata": {
    "execution": {
     "iopub.execute_input": "2023-06-16T10:15:49.838188Z",
     "iopub.status.busy": "2023-06-16T10:15:49.837491Z",
     "iopub.status.idle": "2023-06-16T10:15:49.844104Z",
     "shell.execute_reply": "2023-06-16T10:15:49.842985Z"
    },
    "id": "X8BZWb-Xo7Nx",
    "outputId": "2e595c6e-6d46-4c18-f0fd-e324afbef1fd",
    "papermill": {
     "duration": 0.021577,
     "end_time": "2023-06-16T10:15:49.846642",
     "exception": false,
     "start_time": "2023-06-16T10:15:49.825065",
     "status": "completed"
    },
    "tags": []
   },
   "outputs": [
    {
     "data": {
      "text/plain": [
       "1.0"
      ]
     },
     "execution_count": 19,
     "metadata": {},
     "output_type": "execute_result"
    }
   ],
   "source": [
    "data.max()"
   ]
  },
  {
   "cell_type": "code",
   "execution_count": 20,
   "id": "8a71a6c5",
   "metadata": {
    "execution": {
     "iopub.execute_input": "2023-06-16T10:15:49.873878Z",
     "iopub.status.busy": "2023-06-16T10:15:49.873212Z",
     "iopub.status.idle": "2023-06-16T10:15:49.880699Z",
     "shell.execute_reply": "2023-06-16T10:15:49.879494Z"
    },
    "id": "MqIl4GC3pALz",
    "outputId": "91b484c8-f950-47ce-bd17-7b5f5650b263",
    "papermill": {
     "duration": 0.023202,
     "end_time": "2023-06-16T10:15:49.883008",
     "exception": false,
     "start_time": "2023-06-16T10:15:49.859806",
     "status": "completed"
    },
    "tags": []
   },
   "outputs": [
    {
     "data": {
      "text/plain": [
       "array([0.    , 0.    , 0.3125, 0.8125, 0.5625, 0.0625, 0.    , 0.    ,\n",
       "       0.    , 0.    , 0.8125, 0.9375, 0.625 , 0.9375, 0.3125, 0.    ,\n",
       "       0.    , 0.1875, 0.9375, 0.125 , 0.    , 0.6875, 0.5   , 0.    ,\n",
       "       0.    , 0.25  , 0.75  , 0.    , 0.    , 0.5   , 0.5   , 0.    ,\n",
       "       0.    , 0.3125, 0.5   , 0.    , 0.    , 0.5625, 0.5   , 0.    ,\n",
       "       0.    , 0.25  , 0.6875, 0.    , 0.0625, 0.75  , 0.4375, 0.    ,\n",
       "       0.    , 0.125 , 0.875 , 0.3125, 0.625 , 0.75  , 0.    , 0.    ,\n",
       "       0.    , 0.    , 0.375 , 0.8125, 0.625 , 0.    , 0.    , 0.    ])"
      ]
     },
     "execution_count": 20,
     "metadata": {},
     "output_type": "execute_result"
    }
   ],
   "source": [
    "data[0]"
   ]
  },
  {
   "cell_type": "code",
   "execution_count": 21,
   "id": "b9e61d52",
   "metadata": {
    "execution": {
     "iopub.execute_input": "2023-06-16T10:15:49.908401Z",
     "iopub.status.busy": "2023-06-16T10:15:49.907123Z",
     "iopub.status.idle": "2023-06-16T10:15:50.015144Z",
     "shell.execute_reply": "2023-06-16T10:15:50.013717Z"
    },
    "id": "KanQ1J03pAPQ",
    "papermill": {
     "duration": 0.123275,
     "end_time": "2023-06-16T10:15:50.017916",
     "exception": false,
     "start_time": "2023-06-16T10:15:49.894641",
     "status": "completed"
    },
    "tags": []
   },
   "outputs": [],
   "source": [
    "from sklearn.model_selection import train_test_split"
   ]
  },
  {
   "cell_type": "code",
   "execution_count": 22,
   "id": "ca5f5b26",
   "metadata": {
    "execution": {
     "iopub.execute_input": "2023-06-16T10:15:50.043297Z",
     "iopub.status.busy": "2023-06-16T10:15:50.042847Z",
     "iopub.status.idle": "2023-06-16T10:15:50.048898Z",
     "shell.execute_reply": "2023-06-16T10:15:50.047795Z"
    },
    "id": "HuYIOSaKpRf5",
    "papermill": {
     "duration": 0.021363,
     "end_time": "2023-06-16T10:15:50.051255",
     "exception": false,
     "start_time": "2023-06-16T10:15:50.029892",
     "status": "completed"
    },
    "tags": []
   },
   "outputs": [],
   "source": [
    "X_train, X_test, y_train, y_test = train_test_split(data, df.target, test_size=0.3)"
   ]
  },
  {
   "cell_type": "code",
   "execution_count": 23,
   "id": "f7a2c491",
   "metadata": {
    "execution": {
     "iopub.execute_input": "2023-06-16T10:15:50.076438Z",
     "iopub.status.busy": "2023-06-16T10:15:50.076017Z",
     "iopub.status.idle": "2023-06-16T10:15:50.083846Z",
     "shell.execute_reply": "2023-06-16T10:15:50.082655Z"
    },
    "id": "LFwFa7WSpvGz",
    "outputId": "4ae5e52e-7662-4628-944c-899bb80b6ba2",
    "papermill": {
     "duration": 0.023697,
     "end_time": "2023-06-16T10:15:50.086355",
     "exception": false,
     "start_time": "2023-06-16T10:15:50.062658",
     "status": "completed"
    },
    "tags": []
   },
   "outputs": [
    {
     "data": {
      "text/plain": [
       "((1257, 64), (540, 64), (1257,), (540,))"
      ]
     },
     "execution_count": 23,
     "metadata": {},
     "output_type": "execute_result"
    }
   ],
   "source": [
    "X_train.shape, X_test.shape, y_train.shape, y_test.shape"
   ]
  },
  {
   "cell_type": "code",
   "execution_count": 24,
   "id": "a7da47ef",
   "metadata": {
    "execution": {
     "iopub.execute_input": "2023-06-16T10:15:50.111922Z",
     "iopub.status.busy": "2023-06-16T10:15:50.111138Z",
     "iopub.status.idle": "2023-06-16T10:15:50.506564Z",
     "shell.execute_reply": "2023-06-16T10:15:50.505343Z"
    },
    "id": "tZjxvT72p5TL",
    "papermill": {
     "duration": 0.411281,
     "end_time": "2023-06-16T10:15:50.509275",
     "exception": false,
     "start_time": "2023-06-16T10:15:50.097994",
     "status": "completed"
    },
    "tags": []
   },
   "outputs": [],
   "source": [
    "from sklearn.ensemble import RandomForestClassifier"
   ]
  },
  {
   "cell_type": "code",
   "execution_count": 25,
   "id": "1613a56f",
   "metadata": {
    "execution": {
     "iopub.execute_input": "2023-06-16T10:15:50.534326Z",
     "iopub.status.busy": "2023-06-16T10:15:50.533897Z",
     "iopub.status.idle": "2023-06-16T10:15:50.538909Z",
     "shell.execute_reply": "2023-06-16T10:15:50.537834Z"
    },
    "id": "5pAKAvJWqFex",
    "papermill": {
     "duration": 0.020426,
     "end_time": "2023-06-16T10:15:50.541413",
     "exception": false,
     "start_time": "2023-06-16T10:15:50.520987",
     "status": "completed"
    },
    "tags": []
   },
   "outputs": [],
   "source": [
    "rf=RandomForestClassifier()"
   ]
  },
  {
   "cell_type": "code",
   "execution_count": 26,
   "id": "954493da",
   "metadata": {
    "execution": {
     "iopub.execute_input": "2023-06-16T10:15:50.567461Z",
     "iopub.status.busy": "2023-06-16T10:15:50.567062Z",
     "iopub.status.idle": "2023-06-16T10:15:51.039537Z",
     "shell.execute_reply": "2023-06-16T10:15:51.038319Z"
    },
    "id": "WIsrhhJuqKdE",
    "outputId": "6caa3e44-6c6a-4fee-8ff4-8e18c0820c3a",
    "papermill": {
     "duration": 0.488933,
     "end_time": "2023-06-16T10:15:51.042127",
     "exception": false,
     "start_time": "2023-06-16T10:15:50.553194",
     "status": "completed"
    },
    "tags": []
   },
   "outputs": [
    {
     "data": {
      "text/html": [
       "<style>#sk-container-id-1 {color: black;background-color: white;}#sk-container-id-1 pre{padding: 0;}#sk-container-id-1 div.sk-toggleable {background-color: white;}#sk-container-id-1 label.sk-toggleable__label {cursor: pointer;display: block;width: 100%;margin-bottom: 0;padding: 0.3em;box-sizing: border-box;text-align: center;}#sk-container-id-1 label.sk-toggleable__label-arrow:before {content: \"▸\";float: left;margin-right: 0.25em;color: #696969;}#sk-container-id-1 label.sk-toggleable__label-arrow:hover:before {color: black;}#sk-container-id-1 div.sk-estimator:hover label.sk-toggleable__label-arrow:before {color: black;}#sk-container-id-1 div.sk-toggleable__content {max-height: 0;max-width: 0;overflow: hidden;text-align: left;background-color: #f0f8ff;}#sk-container-id-1 div.sk-toggleable__content pre {margin: 0.2em;color: black;border-radius: 0.25em;background-color: #f0f8ff;}#sk-container-id-1 input.sk-toggleable__control:checked~div.sk-toggleable__content {max-height: 200px;max-width: 100%;overflow: auto;}#sk-container-id-1 input.sk-toggleable__control:checked~label.sk-toggleable__label-arrow:before {content: \"▾\";}#sk-container-id-1 div.sk-estimator input.sk-toggleable__control:checked~label.sk-toggleable__label {background-color: #d4ebff;}#sk-container-id-1 div.sk-label input.sk-toggleable__control:checked~label.sk-toggleable__label {background-color: #d4ebff;}#sk-container-id-1 input.sk-hidden--visually {border: 0;clip: rect(1px 1px 1px 1px);clip: rect(1px, 1px, 1px, 1px);height: 1px;margin: -1px;overflow: hidden;padding: 0;position: absolute;width: 1px;}#sk-container-id-1 div.sk-estimator {font-family: monospace;background-color: #f0f8ff;border: 1px dotted black;border-radius: 0.25em;box-sizing: border-box;margin-bottom: 0.5em;}#sk-container-id-1 div.sk-estimator:hover {background-color: #d4ebff;}#sk-container-id-1 div.sk-parallel-item::after {content: \"\";width: 100%;border-bottom: 1px solid gray;flex-grow: 1;}#sk-container-id-1 div.sk-label:hover label.sk-toggleable__label {background-color: #d4ebff;}#sk-container-id-1 div.sk-serial::before {content: \"\";position: absolute;border-left: 1px solid gray;box-sizing: border-box;top: 0;bottom: 0;left: 50%;z-index: 0;}#sk-container-id-1 div.sk-serial {display: flex;flex-direction: column;align-items: center;background-color: white;padding-right: 0.2em;padding-left: 0.2em;position: relative;}#sk-container-id-1 div.sk-item {position: relative;z-index: 1;}#sk-container-id-1 div.sk-parallel {display: flex;align-items: stretch;justify-content: center;background-color: white;position: relative;}#sk-container-id-1 div.sk-item::before, #sk-container-id-1 div.sk-parallel-item::before {content: \"\";position: absolute;border-left: 1px solid gray;box-sizing: border-box;top: 0;bottom: 0;left: 50%;z-index: -1;}#sk-container-id-1 div.sk-parallel-item {display: flex;flex-direction: column;z-index: 1;position: relative;background-color: white;}#sk-container-id-1 div.sk-parallel-item:first-child::after {align-self: flex-end;width: 50%;}#sk-container-id-1 div.sk-parallel-item:last-child::after {align-self: flex-start;width: 50%;}#sk-container-id-1 div.sk-parallel-item:only-child::after {width: 0;}#sk-container-id-1 div.sk-dashed-wrapped {border: 1px dashed gray;margin: 0 0.4em 0.5em 0.4em;box-sizing: border-box;padding-bottom: 0.4em;background-color: white;}#sk-container-id-1 div.sk-label label {font-family: monospace;font-weight: bold;display: inline-block;line-height: 1.2em;}#sk-container-id-1 div.sk-label-container {text-align: center;}#sk-container-id-1 div.sk-container {/* jupyter's `normalize.less` sets `[hidden] { display: none; }` but bootstrap.min.css set `[hidden] { display: none !important; }` so we also need the `!important` here to be able to override the default hidden behavior on the sphinx rendered scikit-learn.org. See: https://github.com/scikit-learn/scikit-learn/issues/21755 */display: inline-block !important;position: relative;}#sk-container-id-1 div.sk-text-repr-fallback {display: none;}</style><div id=\"sk-container-id-1\" class=\"sk-top-container\"><div class=\"sk-text-repr-fallback\"><pre>RandomForestClassifier()</pre><b>In a Jupyter environment, please rerun this cell to show the HTML representation or trust the notebook. <br />On GitHub, the HTML representation is unable to render, please try loading this page with nbviewer.org.</b></div><div class=\"sk-container\" hidden><div class=\"sk-item\"><div class=\"sk-estimator sk-toggleable\"><input class=\"sk-toggleable__control sk-hidden--visually\" id=\"sk-estimator-id-1\" type=\"checkbox\" checked><label for=\"sk-estimator-id-1\" class=\"sk-toggleable__label sk-toggleable__label-arrow\">RandomForestClassifier</label><div class=\"sk-toggleable__content\"><pre>RandomForestClassifier()</pre></div></div></div></div></div>"
      ],
      "text/plain": [
       "RandomForestClassifier()"
      ]
     },
     "execution_count": 26,
     "metadata": {},
     "output_type": "execute_result"
    }
   ],
   "source": [
    "rf.fit(X_train,y_train)"
   ]
  },
  {
   "cell_type": "code",
   "execution_count": 27,
   "id": "abb812f2",
   "metadata": {
    "execution": {
     "iopub.execute_input": "2023-06-16T10:15:51.069100Z",
     "iopub.status.busy": "2023-06-16T10:15:51.068690Z",
     "iopub.status.idle": "2023-06-16T10:15:51.103032Z",
     "shell.execute_reply": "2023-06-16T10:15:51.101856Z"
    },
    "id": "BNIEPjctqXO6",
    "papermill": {
     "duration": 0.051364,
     "end_time": "2023-06-16T10:15:51.105838",
     "exception": false,
     "start_time": "2023-06-16T10:15:51.054474",
     "status": "completed"
    },
    "tags": []
   },
   "outputs": [],
   "source": [
    "y_pred=rf.predict(X_test)"
   ]
  },
  {
   "cell_type": "code",
   "execution_count": 28,
   "id": "96147416",
   "metadata": {
    "execution": {
     "iopub.execute_input": "2023-06-16T10:15:51.131853Z",
     "iopub.status.busy": "2023-06-16T10:15:51.131471Z",
     "iopub.status.idle": "2023-06-16T10:15:51.140750Z",
     "shell.execute_reply": "2023-06-16T10:15:51.139461Z"
    },
    "id": "GddBrOjiqrFM",
    "outputId": "8806a857-3485-4f17-f6d6-5d831cea26c5",
    "papermill": {
     "duration": 0.025487,
     "end_time": "2023-06-16T10:15:51.143425",
     "exception": false,
     "start_time": "2023-06-16T10:15:51.117938",
     "status": "completed"
    },
    "tags": []
   },
   "outputs": [
    {
     "data": {
      "text/plain": [
       "array([9, 0, 4, 8, 6, 7, 1, 1, 5, 6, 0, 0, 0, 0, 2, 7, 1, 1, 8, 7, 1, 5,\n",
       "       3, 7, 4, 4, 2, 5, 2, 5, 1, 9, 0, 0, 3, 0, 0, 6, 7, 3, 7, 9, 3, 2,\n",
       "       2, 2, 3, 2, 4, 0, 3, 7, 3, 8, 7, 5, 9, 1, 0, 8, 6, 0, 2, 0, 7, 9,\n",
       "       7, 9, 6, 5, 8, 2, 9, 2, 3, 5, 4, 6, 5, 0, 7, 1, 8, 5, 3, 2, 1, 0,\n",
       "       5, 1, 1, 3, 8, 4, 8, 2, 2, 9, 8, 3, 4, 2, 3, 5, 6, 9, 9, 5, 1, 7,\n",
       "       8, 6, 8, 6, 1, 2, 8, 7, 5, 9, 4, 2, 1, 2, 5, 1, 5, 5, 7, 0, 3, 8,\n",
       "       4, 7, 9, 6, 6, 1, 3, 2, 4, 8, 4, 1, 3, 2, 1, 0, 9, 1, 3, 4, 5, 6,\n",
       "       8, 1, 3, 9, 2, 7, 6, 3, 3, 0, 5, 2, 5, 5, 1, 9, 8, 4, 8, 6, 9, 7,\n",
       "       8, 6, 3, 4, 5, 7, 0, 0, 8, 9, 0, 4, 2, 8, 6, 3, 5, 8, 4, 8, 0, 6,\n",
       "       4, 6, 0, 4, 6, 9, 7, 4, 1, 5, 2, 9, 1, 0, 9, 6, 6, 0, 9, 2, 5, 8,\n",
       "       5, 9, 7, 3, 5, 0, 0, 2, 4, 7, 9, 7, 6, 2, 9, 4, 6, 6, 2, 9, 8, 1,\n",
       "       0, 2, 3, 7, 9, 1, 8, 2, 4, 0, 2, 4, 3, 8, 0, 5, 4, 9, 4, 1, 2, 1,\n",
       "       0, 0, 2, 1, 8, 5, 7, 3, 1, 7, 3, 2, 0, 8, 8, 8, 3, 9, 0, 2, 2, 1,\n",
       "       3, 5, 3, 3, 5, 6, 5, 2, 4, 5, 6, 1, 7, 9, 0, 8, 4, 7, 2, 2, 4, 2,\n",
       "       7, 9, 8, 4, 2, 5, 6, 5, 0, 5, 1, 2, 1, 9, 5, 2, 6, 0, 7, 6, 7, 7,\n",
       "       9, 5, 7, 6, 0, 9, 4, 1, 4, 4, 1, 2, 4, 1, 0, 3, 0, 2, 5, 8, 5, 6,\n",
       "       8, 4, 5, 5, 8, 0, 8, 3, 2, 3, 5, 3, 2, 8, 9, 9, 2, 9, 3, 7, 7, 5,\n",
       "       4, 9, 4, 9, 2, 8, 2, 4, 4, 4, 3, 9, 8, 1, 0, 0, 8, 2, 6, 8, 8, 7,\n",
       "       5, 8, 2, 0, 6, 6, 0, 8, 8, 5, 2, 3, 5, 7, 6, 3, 3, 7, 0, 2, 8, 8,\n",
       "       9, 7, 6, 6, 7, 9, 7, 5, 7, 5, 4, 2, 1, 0, 0, 7, 6, 6, 0, 4, 7, 2,\n",
       "       2, 0, 3, 7, 6, 8, 9, 1, 6, 6, 3, 1, 3, 5, 8, 9, 9, 6, 0, 4, 3, 0,\n",
       "       7, 0, 3, 7, 9, 5, 3, 6, 6, 0, 2, 2, 9, 8, 3, 1, 9, 0, 9, 7, 9, 5,\n",
       "       2, 8, 3, 1, 2, 0, 8, 8, 1, 6, 1, 7, 3, 9, 6, 0, 0, 8, 4, 0, 4, 2,\n",
       "       1, 9, 0, 3, 6, 4, 2, 8, 7, 4, 0, 9, 4, 5, 4, 5, 4, 9, 9, 9, 1, 2,\n",
       "       4, 2, 6, 1, 7, 3, 5, 0, 9, 5, 1, 8])"
      ]
     },
     "execution_count": 28,
     "metadata": {},
     "output_type": "execute_result"
    }
   ],
   "source": [
    "y_pred"
   ]
  },
  {
   "cell_type": "code",
   "execution_count": 29,
   "id": "297d873e",
   "metadata": {
    "execution": {
     "iopub.execute_input": "2023-06-16T10:15:51.170352Z",
     "iopub.status.busy": "2023-06-16T10:15:51.169938Z",
     "iopub.status.idle": "2023-06-16T10:15:51.174798Z",
     "shell.execute_reply": "2023-06-16T10:15:51.173914Z"
    },
    "id": "CoPPg5Jeq4br",
    "papermill": {
     "duration": 0.02076,
     "end_time": "2023-06-16T10:15:51.176963",
     "exception": false,
     "start_time": "2023-06-16T10:15:51.156203",
     "status": "completed"
    },
    "tags": []
   },
   "outputs": [],
   "source": [
    "from sklearn.metrics import confusion_matrix, classification_report"
   ]
  },
  {
   "cell_type": "code",
   "execution_count": 30,
   "id": "73082db4",
   "metadata": {
    "execution": {
     "iopub.execute_input": "2023-06-16T10:15:51.203745Z",
     "iopub.status.busy": "2023-06-16T10:15:51.203339Z",
     "iopub.status.idle": "2023-06-16T10:15:51.213483Z",
     "shell.execute_reply": "2023-06-16T10:15:51.212301Z"
    },
    "id": "kxElPW0jrFXz",
    "outputId": "08d83826-f404-4a67-a847-ccec96f2960b",
    "papermill": {
     "duration": 0.027434,
     "end_time": "2023-06-16T10:15:51.217086",
     "exception": false,
     "start_time": "2023-06-16T10:15:51.189652",
     "status": "completed"
    },
    "tags": []
   },
   "outputs": [
    {
     "data": {
      "text/plain": [
       "array([[62,  0,  0,  0,  0,  0,  0,  0,  0,  0],\n",
       "       [ 0, 48,  0,  0,  0,  0,  0,  0,  0,  0],\n",
       "       [ 0,  0, 64,  0,  0,  0,  0,  0,  0,  0],\n",
       "       [ 0,  0,  0, 49,  0,  0,  0,  0,  0,  1],\n",
       "       [ 0,  0,  0,  0, 49,  0,  0,  0,  0,  0],\n",
       "       [ 0,  0,  0,  0,  0, 55,  0,  0,  0,  0],\n",
       "       [ 0,  0,  0,  0,  0,  0, 49,  0,  0,  0],\n",
       "       [ 0,  0,  0,  0,  1,  0,  0, 49,  0,  0],\n",
       "       [ 0,  0,  0,  0,  0,  0,  0,  0, 56,  1],\n",
       "       [ 0,  0,  0,  1,  0,  0,  0,  1,  0, 54]])"
      ]
     },
     "execution_count": 30,
     "metadata": {},
     "output_type": "execute_result"
    }
   ],
   "source": [
    "confusion_matrix(y_test,y_pred)\n"
   ]
  },
  {
   "cell_type": "code",
   "execution_count": 31,
   "id": "13fe720e",
   "metadata": {
    "execution": {
     "iopub.execute_input": "2023-06-16T10:15:51.244718Z",
     "iopub.status.busy": "2023-06-16T10:15:51.244301Z",
     "iopub.status.idle": "2023-06-16T10:15:51.260366Z",
     "shell.execute_reply": "2023-06-16T10:15:51.258910Z"
    },
    "id": "Wm5G1eTzrWj6",
    "outputId": "2db74b01-d24f-41f5-e19c-eea4749db828",
    "papermill": {
     "duration": 0.033344,
     "end_time": "2023-06-16T10:15:51.263157",
     "exception": false,
     "start_time": "2023-06-16T10:15:51.229813",
     "status": "completed"
    },
    "tags": []
   },
   "outputs": [
    {
     "name": "stdout",
     "output_type": "stream",
     "text": [
      "              precision    recall  f1-score   support\n",
      "\n",
      "           0       1.00      1.00      1.00        62\n",
      "           1       1.00      1.00      1.00        48\n",
      "           2       1.00      1.00      1.00        64\n",
      "           3       0.98      0.98      0.98        50\n",
      "           4       0.98      1.00      0.99        49\n",
      "           5       1.00      1.00      1.00        55\n",
      "           6       1.00      1.00      1.00        49\n",
      "           7       0.98      0.98      0.98        50\n",
      "           8       1.00      0.98      0.99        57\n",
      "           9       0.96      0.96      0.96        56\n",
      "\n",
      "    accuracy                           0.99       540\n",
      "   macro avg       0.99      0.99      0.99       540\n",
      "weighted avg       0.99      0.99      0.99       540\n",
      "\n"
     ]
    }
   ],
   "source": [
    "print(classification_report(y_test,y_pred))"
   ]
  }
 ],
 "metadata": {
  "kernelspec": {
   "display_name": "Python 3",
   "language": "python",
   "name": "python3"
  },
  "language_info": {
   "codemirror_mode": {
    "name": "ipython",
    "version": 3
   },
   "file_extension": ".py",
   "mimetype": "text/x-python",
   "name": "python",
   "nbconvert_exporter": "python",
   "pygments_lexer": "ipython3",
   "version": "3.10.10"
  },
  "papermill": {
   "default_parameters": {},
   "duration": 17.511,
   "end_time": "2023-06-16T10:15:52.300493",
   "environment_variables": {},
   "exception": null,
   "input_path": "__notebook__.ipynb",
   "output_path": "__notebook__.ipynb",
   "parameters": {},
   "start_time": "2023-06-16T10:15:34.789493",
   "version": "2.4.0"
  }
 },
 "nbformat": 4,
 "nbformat_minor": 5
}
